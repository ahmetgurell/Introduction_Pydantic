{
 "cells": [
  {
   "cell_type": "code",
   "execution_count": 22,
   "metadata": {},
   "outputs": [],
   "source": [
    "from datetime import datetime, timezone\n",
    "from typing import Annotated, Dict, List, Literal, Tuple, Optional\n",
    "from annotated_types import Gt\n",
    "from pydantic import BaseModel, PositiveInt, ValidationError, field_validator, HttpUrl, TypeAdapter\n",
    "import json\n",
    "import timeit\n",
    "from urllib.parse import urlparse\n",
    "import requests\n",
    "from typing_extensions import NotRequired, TypedDict"
   ]
  },
  {
   "cell_type": "markdown",
   "metadata": {},
   "source": [
    "Example 1"
   ]
  },
  {
   "cell_type": "code",
   "execution_count": 23,
   "metadata": {},
   "outputs": [
    {
     "name": "stdout",
     "output_type": "stream",
     "text": [
      "datetime.datetime(2020, 1, 2, 3, 4, 5, tzinfo=TzInfo(UTC))\n",
      "(10, 20)\n",
      "None\n"
     ]
    }
   ],
   "source": [
    "class Delivery(BaseModel):\n",
    "    timestamp: datetime\n",
    "    dimensions: Tuple[int, int]\n",
    "    sample: Optional[str] = None\n",
    "\n",
    "m = Delivery(timestamp='2020-01-02T03:04:05Z', dimensions=['10', '20'])\n",
    "print(repr(m.timestamp))\n",
    "#> datetime.datetime(2020, 1, 2, 3, 4, 5, tzinfo=TzInfo(UTC))\n",
    "print(m.dimensions)\n",
    "#> (10, 20)\n",
    "print(m.sample)"
   ]
  },
  {
   "cell_type": "markdown",
   "metadata": {},
   "source": [
    "Example 2 val-successfull"
   ]
  },
  {
   "cell_type": "code",
   "execution_count": 24,
   "metadata": {},
   "outputs": [
    {
     "name": "stdout",
     "output_type": "stream",
     "text": [
      "123\n",
      "{'id': 123, 'name': 'John Doe', 'signup_ts': datetime.datetime(2019, 6, 1, 12, 22), 'tastes': {'wine': 9, 'cheese': 7, 'cabbage': 1}}\n"
     ]
    },
    {
     "data": {
      "text/plain": [
       "\"\\n{\\n    'id': 123,\\n    'name': 'John Doe',\\n    'signup_ts': datetime.datetime(2019, 6, 1, 12, 22),\\n    'tastes': {'wine': 9, 'cheese': 7, 'cabbage': 1},\\n}\\n\""
      ]
     },
     "execution_count": 24,
     "metadata": {},
     "output_type": "execute_result"
    }
   ],
   "source": [
    "class User(BaseModel):\n",
    "    id: int  \n",
    "    name: str = 'John Doe'  \n",
    "    signup_ts: datetime | None  \n",
    "    tastes: dict[str, PositiveInt]  \n",
    "\n",
    "\n",
    "external_data = {\n",
    "    'id': 123,\n",
    "    'signup_ts': '2019-06-01 12:22',  \n",
    "    'tastes': {\n",
    "        'wine': 9,\n",
    "        b'cheese': 7,  \n",
    "        'cabbage': '1',  \n",
    "    },\n",
    "}\n",
    "\n",
    "user = User(**external_data)  \n",
    "\n",
    "print(user.id)  \n",
    "#> 123\n",
    "print(user.model_dump())  \n",
    "\"\"\"\n",
    "{\n",
    "    'id': 123,\n",
    "    'name': 'John Doe',\n",
    "    'signup_ts': datetime.datetime(2019, 6, 1, 12, 22),\n",
    "    'tastes': {'wine': 9, 'cheese': 7, 'cabbage': 1},\n",
    "}\n",
    "\"\"\""
   ]
  },
  {
   "cell_type": "markdown",
   "metadata": {},
   "source": [
    "Example 3 val-error"
   ]
  },
  {
   "cell_type": "code",
   "execution_count": 25,
   "metadata": {},
   "outputs": [
    {
     "name": "stdout",
     "output_type": "stream",
     "text": [
      "[{'type': 'int_parsing', 'loc': ('id',), 'msg': 'Input should be a valid integer, unable to parse string as an integer', 'input': 'not an int', 'url': 'https://errors.pydantic.dev/2.7/v/int_parsing'}, {'type': 'missing', 'loc': ('signup_ts',), 'msg': 'Field required', 'input': {'id': 'not an int', 'tastes': {}}, 'url': 'https://errors.pydantic.dev/2.7/v/missing'}]\n"
     ]
    }
   ],
   "source": [
    "class User(BaseModel):\n",
    "    id: int\n",
    "    name: str = 'John Doe'\n",
    "    signup_ts: datetime | None\n",
    "    tastes: dict[str, PositiveInt]\n",
    "\n",
    "\n",
    "external_data = {'id': 'not an int', 'tastes': {}}  \n",
    "\n",
    "try:\n",
    "    User(**external_data)  \n",
    "except ValidationError as e:\n",
    "    print(e.errors())\n",
    "    \"\"\"\n",
    "    [\n",
    "        {\n",
    "            'type': 'int_parsing',\n",
    "            'loc': ('id',),\n",
    "            'msg': 'Input should be a valid integer, unable to parse string as an integer',\n",
    "            'input': 'not an int',\n",
    "            'url': 'https://errors.pydantic.dev/2/v/int_parsing',\n",
    "        },\n",
    "        {\n",
    "            'type': 'missing',\n",
    "            'loc': ('signup_ts',),\n",
    "            'msg': 'Field required',\n",
    "            'input': {'id': 'not an int', 'tastes': {}},\n",
    "            'url': 'https://errors.pydantic.dev/2/v/missing',\n",
    "        },\n",
    "    ]\n",
    "    \"\"\""
   ]
  },
  {
   "cell_type": "markdown",
   "metadata": {},
   "source": [
    "Example 4"
   ]
  },
  {
   "cell_type": "code",
   "execution_count": 26,
   "metadata": {},
   "outputs": [
    {
     "name": "stdout",
     "output_type": "stream",
     "text": [
      "name='Apple' color='red' weight=4.2 bazam={'foobar': [(1, True, 0.1)]}\n"
     ]
    }
   ],
   "source": [
    "class Fruit(BaseModel):\n",
    "    name: str  \n",
    "    color: Literal['red', 'green']  \n",
    "    weight: Annotated[float, Gt(0)]  \n",
    "    bazam: Dict[str, List[Tuple[int, bool, float]]]  \n",
    "\n",
    "\n",
    "print(\n",
    "    Fruit(\n",
    "        name='Apple',\n",
    "        color='red',\n",
    "        weight=4.2,\n",
    "        bazam={'foobar': [(1, True, 0.1)]},\n",
    "    )\n",
    ")\n",
    "#> name='Apple' color='red' weight=4.2 bazam={'foobar': [(1, True, 0.1)]}"
   ]
  },
  {
   "cell_type": "markdown",
   "metadata": {},
   "source": [
    "Example 5 performance"
   ]
  },
  {
   "cell_type": "code",
   "execution_count": 27,
   "metadata": {},
   "outputs": [
    {
     "name": "stdout",
     "output_type": "stream",
     "text": [
      "pure python: 6.48ms\n",
      "pydantic: 1.95ms\n",
      "Pydantic 3.33x faster\n"
     ]
    }
   ],
   "source": [
    "reps = 7\n",
    "number = 100\n",
    "r = requests.get('https://api.github.com/emojis')\n",
    "r.raise_for_status()\n",
    "emojis_json = r.content\n",
    "\n",
    "\n",
    "def emojis_pure_python(raw_data):\n",
    "    data = json.loads(raw_data)\n",
    "    output = {}\n",
    "    for key, value in data.items():\n",
    "        assert isinstance(key, str)\n",
    "        url = urlparse(value)\n",
    "        assert url.scheme in ('https', 'http')\n",
    "        output[key] = url\n",
    "\n",
    "\n",
    "emojis_pure_python_times = timeit.repeat(\n",
    "    'emojis_pure_python(emojis_json)',\n",
    "    globals={\n",
    "        'emojis_pure_python': emojis_pure_python,\n",
    "        'emojis_json': emojis_json,\n",
    "    },\n",
    "    repeat=reps,\n",
    "    number=number,\n",
    ")\n",
    "print(f'pure python: {min(emojis_pure_python_times) / number * 1000:0.2f}ms')\n",
    "#> pure python: 5.32ms\n",
    "\n",
    "type_adapter = TypeAdapter(dict[str, HttpUrl])\n",
    "emojis_pydantic_times = timeit.repeat(\n",
    "    'type_adapter.validate_json(emojis_json)',\n",
    "    globals={\n",
    "        'type_adapter': type_adapter,\n",
    "        'HttpUrl': HttpUrl,\n",
    "        'emojis_json': emojis_json,\n",
    "    },\n",
    "    repeat=reps,\n",
    "    number=number,\n",
    ")\n",
    "print(f'pydantic: {min(emojis_pydantic_times) / number * 1000:0.2f}ms')\n",
    "#> pydantic: 1.54ms\n",
    "\n",
    "print(\n",
    "    f'Pydantic {min(emojis_pure_python_times) / min(emojis_pydantic_times):0.2f}x faster'\n",
    ")\n",
    "#> Pydantic 3.45x faster"
   ]
  },
  {
   "cell_type": "markdown",
   "metadata": {},
   "source": [
    "Example 6 TypedDict"
   ]
  },
  {
   "cell_type": "code",
   "execution_count": 28,
   "metadata": {},
   "outputs": [
    {
     "name": "stdout",
     "output_type": "stream",
     "text": [
      "{'when': datetime.datetime(2020, 1, 1, 12, 0), 'where': b'home'}\n",
      "{'properties': {'when': {'format': 'date-time', 'title': 'When', 'type': 'string'}, 'where': {'format': 'binary', 'title': 'Where', 'type': 'string'}, 'why': {'title': 'Why', 'type': 'string'}}, 'required': ['when', 'where'], 'title': 'Meeting', 'type': 'object'}\n"
     ]
    },
    {
     "data": {
      "text/plain": [
       "\"\\n{\\n    'properties': {\\n        'when': {'format': 'date-time', 'title': 'When', 'type': 'string'},\\n        'where': {'format': 'binary', 'title': 'Where', 'type': 'string'},\\n        'why': {'title': 'Why', 'type': 'string'},\\n    },\\n    'required': ['when', 'where'],\\n    'title': 'Meeting',\\n    'type': 'object',\\n}\\n\""
      ]
     },
     "execution_count": 28,
     "metadata": {},
     "output_type": "execute_result"
    }
   ],
   "source": [
    "class Meeting(TypedDict):\n",
    "    when: datetime\n",
    "    where: bytes\n",
    "    why: NotRequired[str]\n",
    "\n",
    "\n",
    "meeting_adapter = TypeAdapter(Meeting)\n",
    "m = meeting_adapter.validate_python(  \n",
    "    {'when': '2020-01-01T12:00', 'where': 'home'}\n",
    ")\n",
    "print(m)\n",
    "#> {'when': datetime.datetime(2020, 1, 1, 12, 0), 'where': b'home'}\n",
    "meeting_adapter.dump_python(m, exclude={'where'})  \n",
    "\n",
    "print(meeting_adapter.json_schema())  \n",
    "\"\"\"\n",
    "{\n",
    "    'properties': {\n",
    "        'when': {'format': 'date-time', 'title': 'When', 'type': 'string'},\n",
    "        'where': {'format': 'binary', 'title': 'Where', 'type': 'string'},\n",
    "        'why': {'title': 'Why', 'type': 'string'},\n",
    "    },\n",
    "    'required': ['when', 'where'],\n",
    "    'title': 'Meeting',\n",
    "    'type': 'object',\n",
    "}\n",
    "\"\"\""
   ]
  }
 ],
 "metadata": {
  "kernelspec": {
   "display_name": "Python 3",
   "language": "python",
   "name": "python3"
  },
  "language_info": {
   "codemirror_mode": {
    "name": "ipython",
    "version": 3
   },
   "file_extension": ".py",
   "mimetype": "text/x-python",
   "name": "python",
   "nbconvert_exporter": "python",
   "pygments_lexer": "ipython3",
   "version": "3.12.2"
  }
 },
 "nbformat": 4,
 "nbformat_minor": 2
}
